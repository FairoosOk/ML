{
 "cells": [
  {
   "cell_type": "markdown",
   "metadata": {},
   "source": [
    "# Programming Assignment 7\n",
    "Create a copy of this notebook and rename it YourLastName_Assignment7.ipynb. Upload the completed notebook to the Submissions page on Sakai.  \n",
    "\n",
    "Fill in the Python code cell below with your Name, Date, and Assignment number. Use docstrings."
   ]
  },
  {
   "cell_type": "code",
   "execution_count": null,
   "metadata": {
    "collapsed": true
   },
   "outputs": [],
   "source": []
  },
  {
   "cell_type": "markdown",
   "metadata": {},
   "source": [
    "### Problem 1.\n",
    "**1A.** Write 3 lines of Python code in the code cell below to identify your current working directory, assign it to a variable, and output it to the screen. Copy and paste your output in the following Markdown cell. "
   ]
  },
  {
   "cell_type": "code",
   "execution_count": 15,
   "metadata": {},
   "outputs": [
    {
     "name": "stdout",
     "output_type": "stream",
     "text": [
      "C:\\Users\\fairoos ok\\Desktop\\TeacherOn\n"
     ]
    }
   ],
   "source": [
    "# Answer 1A\n",
    "import os\n",
    "CurrentWorkingD=os.getcwd()\n",
    "print(CurrentWorkingD)"
   ]
  },
  {
   "cell_type": "markdown",
   "metadata": {},
   "source": [
    "*ANSWER 1A* \n",
    "```\n",
    "paste your output here\n",
    "```\n"
   ]
  },
  {
   "cell_type": "markdown",
   "metadata": {},
   "source": [
    "**1B.** Write Python code to print the contents of your current working directory in the Python cell below. Copy and paste your output in the Markdown cell that follows.  "
   ]
  },
  {
   "cell_type": "code",
   "execution_count": 16,
   "metadata": {},
   "outputs": [
    {
     "name": "stdout",
     "output_type": "stream",
     "text": [
      "Assignment4.ipynb\n",
      "Assignment5.ipynb\n",
      "Assignment6.ipynb\n",
      "Assignment7.ipynb\n",
      "employee hours.pdf\n",
      "Links.txt\n"
     ]
    }
   ],
   "source": [
    "# Answer 1B\n",
    "files = [f for f in os.listdir('.') if os.path.isfile(f)]\n",
    "for f in files:\n",
    "    print(f)\n"
   ]
  },
  {
   "cell_type": "markdown",
   "metadata": {},
   "source": [
    "*ANSWER 1B* \n",
    "```\n",
    "paste your output here\n",
    "```"
   ]
  },
  {
   "cell_type": "markdown",
   "metadata": {},
   "source": [
    "**1C.** Write Python code to create a new file called `YourLastName_sessionInfo.txt`.\n",
    "\n",
    "In this file, print:  \n",
    "\n",
    "- A line indicating the date  \n",
    "- A line indicating `'The Author of this file is: '` followed by your name  \n",
    "- A line stating `'The current directory is : '` followed by the directory  \n",
    "\n",
    "Make sure you check that your file is formatted correctly. Remember, to create a new line in Python you use `\\n`.\n",
    "**Upload your file to Sakai with this assignment.**\n"
   ]
  },
  {
   "cell_type": "code",
   "execution_count": 20,
   "metadata": {},
   "outputs": [],
   "source": [
    "# Answer 1C\n",
    "file = open(\"copy.txt\", \"w\") \n",
    "file.write(\"09/08/2019 \\n\")\n",
    "file.write(\"The Auther of file is : Fairoos Ok \\n\")\n",
    "file.write(\"The current directory is : \")\n",
    "file.write(CurrentWorkingD) \n",
    "file.close()"
   ]
  },
  {
   "cell_type": "code",
   "execution_count": 54,
   "metadata": {},
   "outputs": [
    {
     "name": "stdout",
     "output_type": "stream",
     "text": [
      "Its contents Replaced\n",
      "['Its contents Replaced']\n",
      "Its contents Replace\n",
      "d\n",
      "\n",
      "Its contents Replaced\n"
     ]
    }
   ],
   "source": [
    "with open('copy.txt', 'r') as reader:\n",
    "    # Read & print the entire file\n",
    "    print(reader.read())\n",
    "    \n",
    "file = open(\"copy.txt\")\n",
    "print(file.readlines(100))\n",
    "file.close()\n",
    "\n",
    "file = open(\"copy.txt\")\n",
    "print(file.readline(20))\n",
    "print(file.readline(50))\n",
    "print(file.readline(80))\n",
    "file.close()\n",
    "\n",
    "file = open(\"copy.txt\")\n",
    "for line in file:\n",
    "    print(line)\n",
    "file.close()    "
   ]
  },
  {
   "cell_type": "code",
   "execution_count": 43,
   "metadata": {},
   "outputs": [
    {
     "name": "stdout",
     "output_type": "stream",
     "text": [
      "09/08/2019 \n",
      "\n",
      "The Auther of file is : Fairoos Ok \n",
      "\n",
      "The current directory is :C:\\Users\\fairoos ok\\Desktop\\TeacherOn\n",
      "\n",
      "Hi How are you\n",
      "\n",
      "are you ok?\n",
      "\n",
      "Testing 6 th line\n"
     ]
    }
   ],
   "source": [
    "file = open(\"copy.txt\")\n",
    "for i in range(6):\n",
    "    print(file.readline(80))\n",
    "file.close()"
   ]
  },
  {
   "cell_type": "code",
   "execution_count": 44,
   "metadata": {},
   "outputs": [
    {
     "name": "stdout",
     "output_type": "stream",
     "text": [
      "09/08/2019 \n",
      "\n",
      "The Auther of file is : Fairoos Ok \n",
      "\n",
      "The current directory is :C:\\Users\\fairoos ok\\Desktop\\TeacherOn\n",
      "\n",
      "Hi How are you\n",
      "\n"
     ]
    }
   ],
   "source": [
    "file = open(\"copy.txt\")\n",
    "print(file.readline(20))\n",
    "print(file.readline(50))\n",
    "print(file.readline(80))\n",
    "print(file.readline(80))\n",
    "file.close()"
   ]
  },
  {
   "cell_type": "code",
   "execution_count": 47,
   "metadata": {},
   "outputs": [],
   "source": [
    "with open(\"copy.txt\", \"a\") as myfile:\n",
    "    myfile.write(\"\\nappended text\")"
   ]
  },
  {
   "cell_type": "markdown",
   "metadata": {},
   "source": [
    "### Problem 2.  \n",
    "Suppose you are given a file called `data.txt` and do not know much about it. Answer the following questions.  \n",
    "\n",
    "**2A.**  Write three different Python statements you could use to read from the file.  \n",
    "*ANSWER 2A*\n",
    "\n",
    "```with open('copy.txt', 'r') as reader:\n",
    "    # Read & print the entire file\n",
    "    print(reader.read())\n",
    "    \n",
    "file = open(\"copy.txt\")\n",
    "print(file.readlines(100))\n",
    "file.close()\n",
    "\n",
    "file = open(\"copy.txt\")\n",
    "print(file.readline(20))\n",
    "print(file.readline(50))\n",
    "print(file.readline(80))\n",
    "file.close()\n",
    "'''\n",
    "\n",
    "**2B.** Write a Python statement to read the first 5 lines of the file. Use a loop.   \n",
    "*ANSWER 2B*\n",
    "```file = open(\"copy.txt\")\n",
    "for i in range(5):\n",
    "    print(file.readline(80))\n",
    "file.close()\n",
    "\n",
    "\n",
    "```\n",
    "\n",
    "\n",
    "**2C.** Write a set of Python statements that will open the file and allow you to view the first four lines of the file.  \n",
    "*ANSWER 2C*  \n",
    "```\n",
    "file = open(\"copy.txt\")\n",
    "print(file.readline(20))\n",
    "print(file.readline(50))\n",
    "print(file.readline(80))\n",
    "print(file.readline(80))\n",
    "file.close()\n",
    "```\n",
    "\n",
    "**2D.** Write a Python statement to remove whitespace from a line in the file.  \n",
    "*ANSWER 2D*  \n",
    "```\n",
    "\n",
    "```\n",
    "**2E.** Write a Python statement to open the document so that you can add a new line to the end of the file.   \n",
    "*ANSWER 2E*  \n",
    "```\n",
    "with open(\"copy.txt\", \"a\") as myfile:\n",
    "    myfile.write(\"\\nappended text\")\n",
    "\n",
    "```\n",
    "**2F.** Write a Python statement overwrite the contents of the file.   \n",
    "*ANSWER 2F*  \n",
    "```\n",
    "with open('copy.txt', 'w') as myfile:\n",
    "    myfile.write('Its contents Replaced')\n",
    "```\n"
   ]
  },
  {
   "cell_type": "code",
   "execution_count": 51,
   "metadata": {},
   "outputs": [],
   "source": [
    "with open('copy.txt', 'w') as myfile:\n",
    "    myfile.write('Its contents Replaced') "
   ]
  },
  {
   "cell_type": "code",
   "execution_count": 57,
   "metadata": {},
   "outputs": [
    {
     "ename": "OSError",
     "evalue": "[Errno 22] Invalid argument: 'copy.txt/'",
     "output_type": "error",
     "traceback": [
      "\u001b[1;31m---------------------------------------------------------------------------\u001b[0m",
      "\u001b[1;31mOSError\u001b[0m                                   Traceback (most recent call last)",
      "\u001b[1;32m<ipython-input-57-2b710377d21c>\u001b[0m in \u001b[0;36m<module>\u001b[1;34m\u001b[0m\n\u001b[1;32m----> 1\u001b[1;33m \u001b[1;32mwith\u001b[0m \u001b[0mopen\u001b[0m\u001b[1;33m(\u001b[0m\u001b[1;34m\"copy.txt/\"\u001b[0m\u001b[1;33m,\u001b[0m \u001b[1;34m\"r\"\u001b[0m\u001b[1;33m)\u001b[0m \u001b[1;32mas\u001b[0m \u001b[0mf\u001b[0m\u001b[1;33m:\u001b[0m\u001b[1;33m\u001b[0m\u001b[0m\n\u001b[0m\u001b[0;32m      2\u001b[0m     \u001b[1;32mfor\u001b[0m \u001b[0mline\u001b[0m \u001b[1;32min\u001b[0m \u001b[0mf\u001b[0m\u001b[1;33m:\u001b[0m\u001b[1;33m\u001b[0m\u001b[0m\n\u001b[0;32m      3\u001b[0m         \u001b[0mcleanedLine\u001b[0m \u001b[1;33m=\u001b[0m \u001b[0mline\u001b[0m\u001b[1;33m.\u001b[0m\u001b[0mstrip\u001b[0m\u001b[1;33m(\u001b[0m\u001b[1;33m)\u001b[0m\u001b[1;33m\u001b[0m\u001b[0m\n\u001b[0;32m      4\u001b[0m         \u001b[1;32mif\u001b[0m \u001b[0mcleanedLine\u001b[0m\u001b[1;33m:\u001b[0m \u001b[1;31m# is not empty\u001b[0m\u001b[1;33m\u001b[0m\u001b[0m\n\u001b[0;32m      5\u001b[0m             \u001b[0mprint\u001b[0m\u001b[1;33m(\u001b[0m\u001b[0mcleanedLine\u001b[0m\u001b[1;33m)\u001b[0m\u001b[1;33m\u001b[0m\u001b[0m\n",
      "\u001b[1;31mOSError\u001b[0m: [Errno 22] Invalid argument: 'copy.txt/'"
     ]
    }
   ],
   "source": [
    "with open(\"copy.txt/\", \"r\") as f:\n",
    "    for line in f:\n",
    "        cleanedLine = line.strip()\n",
    "        if cleanedLine: # is not empty\n",
    "            print(cleanedLine)"
   ]
  },
  {
   "cell_type": "markdown",
   "metadata": {},
   "source": [
    "### Problem 3\n",
    "**3A.** Write pseudocode for a program that produces a report for a manager to help her keep track of the hours worked by her part-time employees. The program should read the sequential file `EmployeeHours.txt`. This file lists the day of the week followed by the number of hours worked by each employee for each day, and accumulates daily totals using a single-level control break in the program. The report should look similar to the one shown below:\n",
    "\n",
    "Example input file:\n",
    "```\t\t\n",
    "\tMonday \n",
    "    6\n",
    "\tMonday\n",
    "    3\n",
    "\tMonday\n",
    "    4\n",
    "\tTuesday\n",
    "    4\n",
    "    Tuesday\n",
    "    2\n",
    "    Wednesday\n",
    "    2\n",
    "    Wednesday\n",
    "    6\n",
    "    ...\n",
    "\t\n",
    "```\n",
    "\n",
    "Example report:\n",
    "\n",
    "```\n",
    "    Weekly hours worked\n",
    "    Monday\n",
    "\t\t\tDay Total: 13.0\n",
    "\tTuesday \n",
    "\t\t\tDay Total: 6.0\n",
    "\tWednesday \n",
    "\t\t\tDay Total: 10.0\n",
    "\tThursday\n",
    "\t\t\tDay Total: 4.0\n",
    "\tFriday\n",
    "\t\t\tDay Total: 10.0\n",
    "\tSaturday\n",
    "\t\t\tDay Total: 21.0\n",
    "\tSunday\n",
    "\t\t\tDay Total: 10.0\n",
    "```\n",
    "\n",
    "Complete the pseudocode below. Use the partially prewritten Python code below and the client by state example script in the module 7 `.ipynb` as a guide. \n"
   ]
  },
  {
   "cell_type": "markdown",
   "metadata": {},
   "source": [
    "**ANSWER 3A** \n",
    "```\n",
    "\\\\ This program creates a report that lists weekly hours worked by employees of a supermarket. The report lists total hours for  each day of one week. \n",
    "\n",
    "\\\\ Declarations\n",
    "    str HEAD1 = \"WEEKLY HOURS WORKED\"\n",
    "    str DAY_FOOTER = \"          Day Total \"  #Leading spaces are intentional.\n",
    "    str SENTINEL = \"done\" #Named constant for sentinel value. \n",
    "    num hoursWorked = 0         # Current record hours.\n",
    "    str hoursWorkedString = \"\"\t# String version of hours\n",
    "    str dayOfWeek = \"\"      # Current record day of week.\n",
    "    num hoursTotal = 0          # Hours total for a day.\n",
    "    str prevDay = \"\"            # Previous day of week.\n",
    "    str done = \"N\"  # loop control\n",
    "    \\\\ Open the file\n",
    "\n",
    "\n",
    "    \\\\ housekeeping()\n",
    "    \\\\ print header\n",
    "    output two blank lines\n",
    "    output HEAD1\n",
    "    output two blank lines\n",
    "    \\\\ read in first record\n",
    "    \n",
    "    \\\\ detail()\n",
    "\n",
    "    \\\\ endOfJob()\n",
    "\n",
    "\n",
    "```\n",
    "\n",
    "**Run the cell to make sure it is properly formatted**"
   ]
  },
  {
   "cell_type": "markdown",
   "metadata": {},
   "source": [
    "**3B.** Using the partially completed program below, to convert the pseudocode you wrote in problem 3 into Python code. The prewritten program includes the necessary variable declarations and input and output statements. You need to design the logic to implement the code that recognizes when a control break should occur and complete the control break code. You should have a loop that accumulates the daily totals when `dayOfWeek` is the same as `prevDay`, and use a control break to print the day totals when `dayOfWeek` is not the same as `prevDay`. This logic is the similar to the `produceReport()` and `controlBreak()` modules in the client by state program.  Be sure to accumulate the daily totals for all days in the week."
   ]
  },
  {
   "cell_type": "code",
   "execution_count": null,
   "metadata": {},
   "outputs": [],
   "source": [
    "# This program creates a report that lists weekly hours worked \n",
    "# by employees of a supermarket. The report lists total hours for \n",
    "# each day of one week. \n",
    "# Input:  Interactive\n",
    "# Output: Report. \n",
    "\n",
    "#Declarations\n",
    "HEAD1 = \"WEEKLY HOURS WORKED\"\n",
    "DAY_FOOTER = \"          Day Total \"  #Leading spaces are intentional.\n",
    "SENTINEL = \"done\" #Named constant for sentinel value. \n",
    "hoursWorked = 0         # Current record hours.\n",
    "hoursWorkedString = \"\"\t# String version of hours\n",
    "dayOfWeek = \"\"      # Current record day of week.\n",
    "hoursTotal = 0          # Hours total for a day.\n",
    "prevDay = \"\"            # Previous day of week.\n",
    "done = \"N\"  # loop control\n",
    "## Open the file\n",
    "\n",
    "file = open(\"employeehours.txt\")\n",
    "while SENTINEL = \"done\":\n",
    "    file.write(input(\"Enter Day of the week: \\n\"))\n",
    "    file.write(input(\"Enter Hours worked by an Employee: \\n\"))\n",
    "    SENTINEL=input(\"if You wnt to continue enter done otherwise enter stop \\n\") \n",
    "\n",
    "# This program creates a report that lists weekly hours worked \n",
    "# by employees of a supermarket. The report lists total hours for \n",
    "# each day of one week. \n",
    "# Input:  Interactive\n",
    "# Output: Report. \n",
    "\n",
    "#Declarations\n",
    "HEAD1 = \"WEEKLY HOURS WORKED\"\n",
    "DAY_FOOTER = \"          Day Total \"  #Leading spaces are intentional.\n",
    "SENTINEL = \"done\" #Named constant for sentinel value. \n",
    "hoursWorked = 0         # Current record hours.\n",
    "hoursWorkedString = \"\"\t# String version of hours\n",
    "dayOfWeek = \"\"      # Current record day of week.\n",
    "hoursTotal = 0          # Hours total for a day.\n",
    "prevDay = \"\"            # Previous day of week.\n",
    "done = \"N\"  # loop control\n",
    "## Open the file\n",
    "myFile=open('EmployeeHours.txt')\n",
    "#Print two blank lines.\n",
    "print(\"\\n\") \n",
    "print(\"\\n\")  \n",
    "#Print heading.\n",
    "print(HEAD1)\n",
    "#Print two blank lines.\n",
    "print(\"\\n\") \n",
    "print(\"\\n\")\n",
    "\n",
    "#Read first record \n",
    "dayOfWeek=myFile.readline().rstrip()\n",
    "hoursWorkedString=myFile.readline().rstrip()\n",
    "hoursWorked=int(hoursWorkedString)\n",
    "prevDay=dayOfWeek\n",
    "while(done == \"N\"):\n",
    "    # Implement control break logic here\n",
    "    if(prevDay!=dayOfWeek):\n",
    "        print(prevDay,\"\\n\",DAY_FOOTER,\":\", str(hoursTotal))\n",
    "        hoursTotal=0\n",
    "        prevDay=dayOfWeek\n",
    "    dayOfWeek=myFile.readline().rstrip()\n",
    "    hoursTotal+=hoursWorked\n",
    "    if not dayOfWeek:\n",
    "        done='Y'\n",
    "        break;\n",
    "    hoursWorkedString=myFile.readline().rstrip()\n",
    "    hoursWorked=int(hoursWorkedString)\n",
    "print(prevDay,\"\\n\",DAY_FOOTER,\":\", str(hoursTotal))\n",
    "myFile.close()\n"
   ]
  }
 ],
 "metadata": {
  "anaconda-cloud": {},
  "kernelspec": {
   "display_name": "Python 3",
   "language": "python",
   "name": "python3"
  },
  "language_info": {
   "codemirror_mode": {
    "name": "ipython",
    "version": 3
   },
   "file_extension": ".py",
   "mimetype": "text/x-python",
   "name": "python",
   "nbconvert_exporter": "python",
   "pygments_lexer": "ipython3",
   "version": "3.6.3"
  }
 },
 "nbformat": 4,
 "nbformat_minor": 2
}
